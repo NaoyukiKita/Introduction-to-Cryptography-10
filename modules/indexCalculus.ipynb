{
 "cells": [
  {
   "cell_type": "code",
   "execution_count": 4,
   "metadata": {},
   "outputs": [],
   "source": [
    "from numpy import sqrt, ceil, log\n",
    "from sympy.ntheory.modular import crt\n",
    "import random\n",
    "\n",
    "from fundmental import primitive_roots\n",
    "from babyGiant import BabyGiant"
   ]
  },
  {
   "cell_type": "code",
   "execution_count": 5,
   "metadata": {},
   "outputs": [],
   "source": [
    "def IndexCalculus(alpha, base, mod, factor_base):\n",
    "    if base not in primitive_roots(mod):\n",
    "        print(f'base {base} must be a primitive root mod {mod}.')\n",
    "        return\n",
    "    \n",
    "    # inner function\n",
    "    def B_smooth(b, factor_base):\n",
    "        for factor in factor_base:\n",
    "            while b % factor == 0: b = b // factor\n",
    "        \n",
    "        return b == 1\n",
    "    \n",
    "    xq_list = []\n",
    "    for q in factor_base:\n",
    "        xq = BabyGiant(alpha=q, base=base, mod=mod)\n",
    "        xq_list.append(xq)\n",
    "    \n",
    "    y_list = []\n",
    "    eq_matrix = []\n",
    "    for y in range(1, mod):\n",
    "        b = (alpha * pow(base, y, mod)) % mod\n",
    "        if not B_smooth(b, factor_base): continue\n",
    "        \n",
    "        eq_list = []\n",
    "        for factor in factor_base:\n",
    "            eq = 0\n",
    "            while b % factor == 0:\n",
    "                b = b // factor\n",
    "                eq = eq + 1\n",
    "            eq_list.append(eq)\n",
    "        y_list.append(y)\n",
    "        eq_matrix.append(eq_list)\n",
    "\n",
    "    x_list = []\n",
    "    for i in range(len(y_list)):\n",
    "        s = sum([xq * eq for xq, eq in zip(xq_list, eq_matrix[i])])\n",
    "        x = (s - y_list[i]) % (mod - 1)\n",
    "\n",
    "        x_list.append(x)\n",
    "    \n",
    "    return list(set(x_list))"
   ]
  },
  {
   "cell_type": "code",
   "execution_count": 6,
   "metadata": {},
   "outputs": [
    {
     "name": "stderr",
     "output_type": "stream",
     "text": [
      "[NbConvertApp] Converting notebook pohligHellman.ipynb to python\n",
      "[NbConvertApp] Writing 811 bytes to pohligHellman.py\n",
      "[NbConvertApp] Converting notebook indexCalculus.ipynb to python\n",
      "[NbConvertApp] Writing 1489 bytes to indexCalculus.py\n",
      "[NbConvertApp] Converting notebook babyGiant.ipynb to python\n",
      "[NbConvertApp] Writing 967 bytes to babyGiant.py\n",
      "[NbConvertApp] Converting notebook fundmental.ipynb to python\n",
      "[NbConvertApp] Writing 1581 bytes to fundmental.py\n",
      "[NbConvertApp] Converting notebook pollard.ipynb to python\n",
      "[NbConvertApp] Writing 2550 bytes to pollard.py\n"
     ]
    }
   ],
   "source": [
    "if 'get_ipython' in globals():\n",
    "    import subprocess\n",
    "    subprocess.run(['jupyter', 'nbconvert', '--to', 'python', '*.ipynb'])"
   ]
  }
 ],
 "metadata": {
  "kernelspec": {
   "display_name": "Python 3",
   "language": "python",
   "name": "python3"
  },
  "language_info": {
   "codemirror_mode": {
    "name": "ipython",
    "version": 3
   },
   "file_extension": ".py",
   "mimetype": "text/x-python",
   "name": "python",
   "nbconvert_exporter": "python",
   "pygments_lexer": "ipython3",
   "version": "3.9.6"
  },
  "orig_nbformat": 4
 },
 "nbformat": 4,
 "nbformat_minor": 2
}
