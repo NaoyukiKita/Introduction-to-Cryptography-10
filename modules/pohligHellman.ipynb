{
 "cells": [
  {
   "cell_type": "code",
   "execution_count": 1,
   "metadata": {},
   "outputs": [],
   "source": [
    "from sympy.ntheory.modular import crt\n",
    "\n",
    "from fundmental import factorize\n",
    "from babyGiant import BabyGiant"
   ]
  },
  {
   "cell_type": "code",
   "execution_count": 2,
   "metadata": {},
   "outputs": [],
   "source": [
    "def PohligHellman(alpha, base, mod):\n",
    "    n = mod - 1\n",
    "\n",
    "    p_list, ep_list = factorize(n)\n",
    "\n",
    "    order_list = [p ** ep for p, ep in zip(p_list, ep_list)]\n",
    "    np_list = [n // order for order in order_list]\n",
    "    gammap_list = [pow(base, np, mod) for np in np_list]\n",
    "    alphap_list = [pow(alpha, np, mod) for np in np_list]\n",
    "    xp_list = [BabyGiant(alphap, gammap, mod) \\\n",
    "               for alphap, gammap, order in zip(alphap_list, gammap_list, order_list)]\n",
    "\n",
    "    x = crt(order_list, xp_list)[0]\n",
    "\n",
    "    return x"
   ]
  },
  {
   "cell_type": "code",
   "execution_count": 3,
   "metadata": {},
   "outputs": [
    {
     "name": "stderr",
     "output_type": "stream",
     "text": [
      "[NbConvertApp] Converting notebook pohligHellman.ipynb to python\n",
      "[NbConvertApp] Writing 811 bytes to pohligHellman.py\n",
      "[NbConvertApp] Converting notebook indexCalculus.ipynb to python\n",
      "[NbConvertApp] Writing 1490 bytes to indexCalculus.py\n",
      "[NbConvertApp] Converting notebook babyGiant.ipynb to python\n",
      "[NbConvertApp] Writing 967 bytes to babyGiant.py\n",
      "[NbConvertApp] Converting notebook fundmental.ipynb to python\n",
      "[NbConvertApp] Writing 1581 bytes to fundmental.py\n",
      "[NbConvertApp] Converting notebook pollard.ipynb to python\n",
      "[NbConvertApp] Writing 2550 bytes to pollard.py\n"
     ]
    }
   ],
   "source": [
    "if 'get_ipython' in globals():\n",
    "    import subprocess\n",
    "    subprocess.run(['jupyter', 'nbconvert', '--to', 'python', '*.ipynb'])"
   ]
  }
 ],
 "metadata": {
  "kernelspec": {
   "display_name": "Python 3",
   "language": "python",
   "name": "python3"
  },
  "language_info": {
   "codemirror_mode": {
    "name": "ipython",
    "version": 3
   },
   "file_extension": ".py",
   "mimetype": "text/x-python",
   "name": "python",
   "nbconvert_exporter": "python",
   "pygments_lexer": "ipython3",
   "version": "3.9.6"
  },
  "orig_nbformat": 4
 },
 "nbformat": 4,
 "nbformat_minor": 2
}
