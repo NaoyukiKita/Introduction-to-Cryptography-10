{
 "cells": [
  {
   "cell_type": "code",
   "execution_count": 4,
   "metadata": {},
   "outputs": [],
   "source": [
    "from numpy import sqrt, ceil"
   ]
  },
  {
   "cell_type": "code",
   "execution_count": 5,
   "metadata": {},
   "outputs": [],
   "source": [
    "def BabyGiant(alpha, base, mod):\n",
    "    gamma = base\n",
    "    n = mod\n",
    "\n",
    "    m = int(ceil(sqrt(n)))\n",
    "\n",
    "    # baby step\n",
    "    B = []\n",
    "    solved = False\n",
    "    for r in range(0, m):\n",
    "        first = (alpha * pow(gamma, -r, n)) % n\n",
    "        second = r\n",
    "        B.append((first, second))\n",
    "\n",
    "        if first != 1: continue\n",
    "        x = r\n",
    "        solved = True\n",
    "\n",
    "    # giant step\n",
    "    if not solved:\n",
    "        delta = pow(gamma, m, n)\n",
    "        max_q = 1000000\n",
    "\n",
    "        current = delta\n",
    "        for q in range(1, max_q+1):\n",
    "            for r in range(0, m):\n",
    "                if B[r][0] != current: continue\n",
    "                x = q * m + r\n",
    "                solved = True\n",
    "            \n",
    "            if solved: break\n",
    "            current = (current * delta) % n\n",
    "    \n",
    "    return x"
   ]
  },
  {
   "cell_type": "code",
   "execution_count": 6,
   "metadata": {},
   "outputs": [
    {
     "name": "stderr",
     "output_type": "stream",
     "text": [
      "[NbConvertApp] Converting notebook pohligHellman.ipynb to python\n",
      "[NbConvertApp] Writing 811 bytes to pohligHellman.py\n",
      "[NbConvertApp] Converting notebook indexCalculus.ipynb to python\n",
      "[NbConvertApp] Writing 1489 bytes to indexCalculus.py\n",
      "[NbConvertApp] Converting notebook babyGiant.ipynb to python\n",
      "[NbConvertApp] Writing 967 bytes to babyGiant.py\n",
      "[NbConvertApp] Converting notebook fundmental.ipynb to python\n",
      "[NbConvertApp] Writing 1581 bytes to fundmental.py\n",
      "[NbConvertApp] Converting notebook pollard.ipynb to python\n",
      "[NbConvertApp] Writing 2550 bytes to pollard.py\n"
     ]
    }
   ],
   "source": [
    "if 'get_ipython' in globals():\n",
    "    import subprocess\n",
    "    subprocess.run(['jupyter', 'nbconvert', '--to', 'python', '*.ipynb'])"
   ]
  }
 ],
 "metadata": {
  "kernelspec": {
   "display_name": "Python 3",
   "language": "python",
   "name": "python3"
  },
  "language_info": {
   "codemirror_mode": {
    "name": "ipython",
    "version": 3
   },
   "file_extension": ".py",
   "mimetype": "text/x-python",
   "name": "python",
   "nbconvert_exporter": "python",
   "pygments_lexer": "ipython3",
   "version": "3.9.6"
  },
  "orig_nbformat": 4
 },
 "nbformat": 4,
 "nbformat_minor": 2
}
