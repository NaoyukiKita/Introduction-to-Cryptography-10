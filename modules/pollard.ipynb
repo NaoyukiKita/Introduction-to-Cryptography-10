{
 "cells": [
  {
   "cell_type": "code",
   "execution_count": 1,
   "metadata": {},
   "outputs": [],
   "source": [
    "from numpy import sqrt, ceil, log\n",
    "import random\n",
    "\n",
    "from fundmental import gcd"
   ]
  },
  {
   "cell_type": "code",
   "execution_count": 2,
   "metadata": {},
   "outputs": [],
   "source": [
    "def Pollard(alpha, base, mod, max_len=None):\n",
    "    n = mod - 1\n",
    "\n",
    "    G = list(range(1, mod))\n",
    "    G1 = G[:mod // 3]\n",
    "    G2 = G[mod // 3 : (mod // 3) * 2]\n",
    "    G3 = G[(mod // 3) * 2:]\n",
    "    # max_iter is based on birthday paradox\n",
    "    max_iter = int(ceil((1 + sqrt(1 + 8 * n * log(2))) / 2))\n",
    "\n",
    "    while True:\n",
    "        x = random.choice(G)\n",
    "        y = 0\n",
    "        beta = pow(base, x, mod)\n",
    "\n",
    "        x_list = [x]\n",
    "        y_list = [y]\n",
    "        beta_list = [beta]\n",
    "        indices = [0]\n",
    "\n",
    "        found = False\n",
    "        for j in range(1, max_iter + 1):\n",
    "            # update\n",
    "            if beta in G1:\n",
    "                x = (x + 1) % n\n",
    "                y = y\n",
    "                beta = (base * beta) % mod\n",
    "            elif beta in G2:\n",
    "                x = (2 * x) % n\n",
    "                y = (2 * y) % n\n",
    "                beta = (beta ** 2) % mod\n",
    "            elif beta in G3:\n",
    "                x = x\n",
    "                y = (y + 1) % n\n",
    "                beta = (alpha * beta) % mod\n",
    "            \n",
    "            # find\n",
    "            if beta in beta_list:\n",
    "                index = beta_list.index(beta)\n",
    "                found = True\n",
    "                break\n",
    "            \n",
    "            # delete\n",
    "            if j % 2 == 0:\n",
    "                index = indices.index(j // 2)\n",
    "                _ = x_list.pop(index)\n",
    "                _ = y_list.pop(index)\n",
    "                _ = beta_list.pop(index)\n",
    "\n",
    "            # store\n",
    "            x_list.append(x)\n",
    "            y_list.append(y)\n",
    "            beta_list.append(beta)\n",
    "            indices.append(j)\n",
    "\n",
    "            # check the constraint\n",
    "            if max_len is not None and len(beta_list) > max_len: break\n",
    "        \n",
    "        if not found: continue\n",
    "\n",
    "        x_dif = x_list[index] - x\n",
    "        y_dif = y - y_list[index]\n",
    "\n",
    "        g = gcd(gcd(x_dif, y_dif), n)\n",
    "        c1 = y_dif // g\n",
    "        c2 = x_dif // g\n",
    "        mod_prime = n // g\n",
    "\n",
    "        z_list = []\n",
    "        for _ in range(mod_prime):\n",
    "            if c2 % c1 == 0: z_list.append(c2 // c1)\n",
    "            c2 += mod_prime\n",
    "\n",
    "        solved = False\n",
    "        for z in z_list:\n",
    "            current_x = z\n",
    "            for k in range(g):\n",
    "                if pow(base, current_x, mod) == alpha:\n",
    "                    solved = True\n",
    "                    break\n",
    "                current_x += mod_prime\n",
    "            if solved: break\n",
    "        \n",
    "        if solved: return current_x"
   ]
  },
  {
   "cell_type": "code",
   "execution_count": 3,
   "metadata": {},
   "outputs": [
    {
     "name": "stderr",
     "output_type": "stream",
     "text": [
      "[NbConvertApp] Converting notebook pohligHellman.ipynb to python\n",
      "[NbConvertApp] Writing 811 bytes to pohligHellman.py\n",
      "[NbConvertApp] Converting notebook indexCalculus.ipynb to python\n",
      "[NbConvertApp] Writing 1490 bytes to indexCalculus.py\n",
      "[NbConvertApp] Converting notebook babyGiant.ipynb to python\n",
      "[NbConvertApp] Writing 967 bytes to babyGiant.py\n",
      "[NbConvertApp] Converting notebook fundmental.ipynb to python\n",
      "[NbConvertApp] Writing 1581 bytes to fundmental.py\n",
      "[NbConvertApp] Converting notebook pollard.ipynb to python\n",
      "[NbConvertApp] Writing 2550 bytes to pollard.py\n"
     ]
    }
   ],
   "source": [
    "if 'get_ipython' in globals():\n",
    "    import subprocess\n",
    "    subprocess.run(['jupyter', 'nbconvert', '--to', 'python', '*.ipynb'])"
   ]
  }
 ],
 "metadata": {
  "kernelspec": {
   "display_name": "Python 3",
   "language": "python",
   "name": "python3"
  },
  "language_info": {
   "codemirror_mode": {
    "name": "ipython",
    "version": 3
   },
   "file_extension": ".py",
   "mimetype": "text/x-python",
   "name": "python",
   "nbconvert_exporter": "python",
   "pygments_lexer": "ipython3",
   "version": "3.9.6"
  },
  "orig_nbformat": 4
 },
 "nbformat": 4,
 "nbformat_minor": 2
}
