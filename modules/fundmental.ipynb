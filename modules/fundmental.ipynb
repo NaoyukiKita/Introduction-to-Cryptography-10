{
 "cells": [
  {
   "cell_type": "code",
   "execution_count": 1,
   "metadata": {},
   "outputs": [],
   "source": [
    "from numpy import sqrt"
   ]
  },
  {
   "cell_type": "code",
   "execution_count": 2,
   "metadata": {},
   "outputs": [],
   "source": [
    "def gcd(x, y):\n",
    "    if y == 0: return x\n",
    "    return gcd(y, x % y)\n",
    "\n",
    "def phi(n):\n",
    "    for ele in range(2, int(sqrt(n)) + 1):\n",
    "        if n % ele != 0: continue\n",
    "        break\n",
    "    return (ele - 1) * (n // ele - 1)\n",
    "\n",
    "def eratos(n):\n",
    "    l = list(range(2, n+1))\n",
    "\n",
    "    for p in range(2, n+1):\n",
    "        l = [i for i in l if i == p or i % p != 0]\n",
    "\n",
    "    return l\n",
    "\n",
    "def factorize(n):\n",
    "    p_list = []\n",
    "    ep_list = []\n",
    "    current = n\n",
    "    for p in range(2, n):\n",
    "        if current == 1: break\n",
    "        if current % p: continue\n",
    "\n",
    "        ep = 0\n",
    "        while current % p == 0:\n",
    "            current = current // p\n",
    "            ep += 1\n",
    "        \n",
    "        p_list.append(p)\n",
    "        ep_list.append(ep)\n",
    "\n",
    "    if current != 1:\n",
    "        p_list.append(current)\n",
    "        ep_list.append(1)\n",
    "    \n",
    "    return p_list, ep_list\n",
    "\n",
    "def divisors(n):\n",
    "    ans = []\n",
    "    for i in range(1, n + 1):\n",
    "        if i * i > n: break\n",
    "        if n % i: continue\n",
    "        ans.append(i)\n",
    "        if n // i != i: ans.append(n // i)\n",
    "\n",
    "    ans.sort()\n",
    "    return ans\n",
    "\n",
    "def primitive_roots(mod):\n",
    "    ds = divisors(mod - 1)\n",
    "\n",
    "    ans = []\n",
    "    for g in range(mod):\n",
    "        if gcd(g, mod) != 1: continue\n",
    "        primitive = True\n",
    "        for p in ds:\n",
    "            if p == mod - 1: continue\n",
    "            if pow(g, p, mod) != 1: continue\n",
    "            primitive = False\n",
    "            break\n",
    "\n",
    "        if primitive: ans.append(g)\n",
    "    \n",
    "    return ans"
   ]
  },
  {
   "cell_type": "code",
   "execution_count": 3,
   "metadata": {},
   "outputs": [
    {
     "name": "stderr",
     "output_type": "stream",
     "text": [
      "[NbConvertApp] Converting notebook pohligHellman.ipynb to python\n",
      "[NbConvertApp] Writing 746 bytes to pohligHellman.py\n",
      "[NbConvertApp] Converting notebook indexCalculus.ipynb to python\n",
      "[NbConvertApp] Writing 1419 bytes to indexCalculus.py\n",
      "[NbConvertApp] Converting notebook babyGiant.ipynb to python\n",
      "[NbConvertApp] Writing 968 bytes to babyGiant.py\n",
      "[NbConvertApp] Converting notebook fundmental.ipynb to python\n",
      "[NbConvertApp] Writing 1581 bytes to fundmental.py\n",
      "[NbConvertApp] Converting notebook pollard.ipynb to python\n",
      "[NbConvertApp] Writing 2522 bytes to pollard.py\n"
     ]
    }
   ],
   "source": [
    "if 'get_ipython' in globals():\n",
    "    import subprocess\n",
    "    subprocess.run(['jupyter', 'nbconvert', '--to', 'python', '*.ipynb'])"
   ]
  }
 ],
 "metadata": {
  "kernelspec": {
   "display_name": "Python 3",
   "language": "python",
   "name": "python3"
  },
  "language_info": {
   "codemirror_mode": {
    "name": "ipython",
    "version": 3
   },
   "file_extension": ".py",
   "mimetype": "text/x-python",
   "name": "python",
   "nbconvert_exporter": "python",
   "pygments_lexer": "ipython3",
   "version": "3.9.6"
  },
  "orig_nbformat": 4
 },
 "nbformat": 4,
 "nbformat_minor": 2
}
