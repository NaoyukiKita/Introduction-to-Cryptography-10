{
 "cells": [
  {
   "cell_type": "code",
   "execution_count": 3,
   "metadata": {},
   "outputs": [],
   "source": [
    "from numpy import sqrt, ceil, log\n",
    "from sympy.ntheory.modular import crt\n",
    "import random\n",
    "\n",
    "import sys\n",
    "\n",
    "sys.path.append('./modules')\n",
    "from fundmental import primitive_roots\n",
    "from babyGiant import BabyGiant\n",
    "from pohligHellman import PohligHellman\n",
    "from pollard import Pollard\n",
    "from indexCalculus import IndexCalculus"
   ]
  },
  {
   "attachments": {},
   "cell_type": "markdown",
   "metadata": {},
   "source": [
    "Exercise 10.9.1"
   ]
  },
  {
   "cell_type": "code",
   "execution_count": 4,
   "metadata": {},
   "outputs": [
    {
     "name": "stdout",
     "output_type": "stream",
     "text": [
      "3^323 ≡ 693 mod 1823, and the target is 693\n",
      "3^1234 ≡ 693 mod 1823, and the target is 693\n"
     ]
    }
   ],
   "source": [
    "alpha = 693\n",
    "gamma = 3\n",
    "n = 1823\n",
    "\n",
    "x = BabyGiant(alpha=alpha, base=gamma, mod=n)\n",
    "\n",
    "# validate\n",
    "print(f'{gamma}^{x} ≡ {pow(gamma, x, n)} mod {n}, and the target is {alpha}')\n",
    "\n",
    "print(f'{gamma}^{1234} ≡ {pow(gamma, 1234, n)} mod {n}, and the target is {alpha}')"
   ]
  },
  {
   "attachments": {},
   "cell_type": "markdown",
   "metadata": {},
   "source": [
    "Exercise 10.9.2"
   ]
  },
  {
   "cell_type": "code",
   "execution_count": 5,
   "metadata": {},
   "outputs": [
    {
     "name": "stdout",
     "output_type": "stream",
     "text": [
      "2^115 ≡ 15 mod 239, and the target is 15\n"
     ]
    }
   ],
   "source": [
    "alpha = 15\n",
    "gamma = 2\n",
    "n = 239\n",
    "\n",
    "x = BabyGiant(alpha=alpha, base=gamma, mod=n)\n",
    "\n",
    "# validate\n",
    "print(f'{gamma}^{x} ≡ {pow(gamma, x, n)} mod {n}, and the target is {alpha}')"
   ]
  },
  {
   "attachments": {},
   "cell_type": "markdown",
   "metadata": {},
   "source": [
    "Exercise 10.9.3"
   ]
  },
  {
   "cell_type": "code",
   "execution_count": 6,
   "metadata": {},
   "outputs": [
    {
     "name": "stdout",
     "output_type": "stream",
     "text": [
      "96\n",
      "2^96 ≡ 507 mod 1117, and the target is 507\n",
      "2^1212 ≡ 507 mod 1117, and the target is 507\n"
     ]
    }
   ],
   "source": [
    "n = 1117\n",
    "alpha = 507\n",
    "\n",
    "gamma = primitive_roots(1117)[0]\n",
    "\n",
    "print(x := PohligHellman(alpha=alpha, base=gamma, mod=n))\n",
    "\n",
    "# validate\n",
    "print(f'{gamma}^{x} ≡ {pow(gamma, x, n)} mod {n}, and the target is {alpha}')\n",
    "\n",
    "print(f'{gamma}^{1212} ≡ {pow(gamma, 1212, n)} mod {n}, and the target is {alpha}')"
   ]
  },
  {
   "attachments": {},
   "cell_type": "markdown",
   "metadata": {},
   "source": [
    "Exercise 10.9.4"
   ]
  },
  {
   "cell_type": "code",
   "execution_count": 7,
   "metadata": {},
   "outputs": [
    {
     "name": "stdout",
     "output_type": "stream",
     "text": [
      "55296\n",
      "3^55296 ≡ 2 mod 65537, and the target is 2\n"
     ]
    }
   ],
   "source": [
    "n = 65537\n",
    "gamma = 3\n",
    "alpha = 2\n",
    "\n",
    "print(x:=PohligHellman(alpha=alpha, base=gamma, mod=n))\n",
    "\n",
    "# validate\n",
    "print(f'{gamma}^{x} ≡ {pow(gamma, x, n)} mod {n}, and the target is {alpha}')"
   ]
  },
  {
   "attachments": {},
   "cell_type": "markdown",
   "metadata": {},
   "source": [
    "Exercise 10.9.5"
   ]
  },
  {
   "cell_type": "code",
   "execution_count": 8,
   "metadata": {},
   "outputs": [
    {
     "name": "stdout",
     "output_type": "stream",
     "text": [
      "1937\n",
      "5^1937 ≡ 15 mod 3167, and the target is 15\n",
      "5^1937 ≡ 15 mod 3167, and the target is 15\n"
     ]
    }
   ],
   "source": [
    "n = 3167\n",
    "gamma = primitive_roots(n)[0]\n",
    "alpha = 15\n",
    "\n",
    "print(x := Pollard(alpha=alpha, base=gamma, mod=n))\n",
    "\n",
    "# validate\n",
    "print(f'{gamma}^{x} ≡ {pow(gamma, x, n)} mod {n}, and the target is {alpha}')\n",
    "\n",
    "print(f'{gamma}^{1937} ≡ {pow(gamma, 1937, n)} mod {n}, and the target is {alpha}')"
   ]
  },
  {
   "attachments": {},
   "cell_type": "markdown",
   "metadata": {},
   "source": [
    "Exercise 10.9.6"
   ]
  },
  {
   "cell_type": "code",
   "execution_count": 9,
   "metadata": {},
   "outputs": [
    {
     "name": "stdout",
     "output_type": "stream",
     "text": [
      "1937\n",
      "5^1937 ≡ 15 mod 3167, and the target is 15\n",
      "5^1937 ≡ 15 mod 3167, and the target is 15\n"
     ]
    }
   ],
   "source": [
    "n = 3167\n",
    "gamma = primitive_roots(n)[0]\n",
    "alpha = 15\n",
    "max_len = 8\n",
    "\n",
    "print(x := Pollard(alpha=alpha, base=gamma, mod=n, max_len=max_len))\n",
    "\n",
    "# validate\n",
    "print(f'{gamma}^{x} ≡ {pow(gamma, x, n)} mod {n}, and the target is {alpha}')\n",
    "\n",
    "print(f'{gamma}^{1937} ≡ {pow(gamma, 1937, n)} mod {n}, and the target is {alpha}')"
   ]
  },
  {
   "attachments": {},
   "cell_type": "markdown",
   "metadata": {},
   "source": [
    "Exercise 10.9.7"
   ]
  },
  {
   "cell_type": "code",
   "execution_count": 10,
   "metadata": {},
   "outputs": [
    {
     "name": "stdout",
     "output_type": "stream",
     "text": [
      "995\n",
      "7^995 ≡ 13 mod 2039, and the target is 13\n",
      "7^995 ≡ 13 mod 2039, and the target is 13\n"
     ]
    }
   ],
   "source": [
    "alpha = 13\n",
    "gamma = 7\n",
    "n = 2039\n",
    "factor_base = [2, 3, 5, 7, 11]\n",
    "\n",
    "print(x:=IndexCalculus(alpha=alpha, base=gamma, mod=n, factor_base=factor_base)[0])\n",
    "\n",
    "# validate\n",
    "print(f'{gamma}^{x} ≡ {pow(gamma, x, n)} mod {n}, and the target is {alpha}')\n",
    "\n",
    "print(f'{gamma}^{995} ≡ {pow(gamma, 995, n)} mod {n}, and the target is {alpha}')"
   ]
  },
  {
   "attachments": {},
   "cell_type": "markdown",
   "metadata": {},
   "source": [
    "Exercise 10.9.8"
   ]
  },
  {
   "cell_type": "code",
   "execution_count": 11,
   "metadata": {},
   "outputs": [
    {
     "name": "stdout",
     "output_type": "stream",
     "text": [
      "995\n"
     ]
    }
   ],
   "source": [
    "alpha = 13\n",
    "gamma = 7\n",
    "n = 2039\n",
    "\n",
    "B = 2\n",
    "factor_base = [2]\n",
    "\n",
    "print(x:=IndexCalculus(alpha=alpha, base=gamma, mod=n, factor_base=factor_base)[0])"
   ]
  }
 ],
 "metadata": {
  "kernelspec": {
   "display_name": "Python 3",
   "language": "python",
   "name": "python3"
  },
  "language_info": {
   "codemirror_mode": {
    "name": "ipython",
    "version": 3
   },
   "file_extension": ".py",
   "mimetype": "text/x-python",
   "name": "python",
   "nbconvert_exporter": "python",
   "pygments_lexer": "ipython3",
   "version": "3.9.6"
  },
  "orig_nbformat": 4
 },
 "nbformat": 4,
 "nbformat_minor": 2
}
